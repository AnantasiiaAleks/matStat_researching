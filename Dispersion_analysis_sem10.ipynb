{
  "nbformat": 4,
  "nbformat_minor": 0,
  "metadata": {
    "colab": {
      "provenance": [],
      "authorship_tag": "ABX9TyM+Zp8sGs259+zpnlwm3Nka",
      "include_colab_link": true
    },
    "kernelspec": {
      "name": "python3",
      "display_name": "Python 3"
    },
    "language_info": {
      "name": "python"
    }
  },
  "cells": [
    {
      "cell_type": "markdown",
      "metadata": {
        "id": "view-in-github",
        "colab_type": "text"
      },
      "source": [
        "<a href=\"https://colab.research.google.com/github/AnantasiiaAleks/matStat_researching/blob/main/Dispersion_analysis_sem10.ipynb\" target=\"_parent\"><img src=\"https://colab.research.google.com/assets/colab-badge.svg\" alt=\"Open In Colab\"/></a>"
      ]
    },
    {
      "cell_type": "markdown",
      "source": [
        "**Задача 1.**  \n",
        "Есть ли различие между процентным содержанием изотопов плутония? Используйте функции в Python.\n",
        "Провести предварительный разведочный анализ (проверку на нормальность и   равенство дисперсий*)\n",
        "\n",
        "pu_238: 0.126, 0.133, 0.127, 0.156, 0.503, 0.113, 0.129, 0.124, 1.022, 1.412, 1.533, 1.534, 1.437, 1.439, 1.375, 1.153, 0.201, 0.176, 0.239, 0.102, 1.070, 0.851, 0.125, 0.142, 0.352, 0.351, 0.346, 0.217, 1.068, 1.171, 1.213, 1.226, 1.111, 0.183, 0.162, 0.113, 1.309, 1.638, 1.589, 1.411, 1.457, 0.397, 0.328, 0.242, 1.367\n",
        "\n",
        "pu_239: 75.804, 75.515, 75.175, 78.872, 73.317, 79.116, 75.751, 75.326, 63.287, 59.553, 58.688, 58.758, 59.728, 59.544, 59.877, 61.182, 78.244, 78.166, 74.254, 79.840,  62.455, 73.189, 75.968, 75.957, 72.885,72.907, 72.919, 76.089, 70.129, 69.273, 69.147, 68.294, 71.076, 75.714, 76.150, 77.845, 62.382, 60.112, 60.519, 61.585,   61.332, 72.291, 73.451, 74.888, 60.507\n",
        "\n",
        "pu_240: 21.204, 21.408, 21.668, 18.428, 20.223, 18.548, 21.162, 21.557, 24.493, 25.576, 25.719, 25.692, 25.146, 25.126, 25.128, 25.100, 18.488, 18.629, 21.515, 17.872, 24.656, 18.285, 20.794, 20.867, 21.718, 21.721, 21.713, 20.225, 18.573, 18.633, 18.640, 18.869, 18.122, 20.750, 20.345, 19.108, 22.754, 23.320, 23.128, 23.133, 23.239,  21.761, 21.429, 20.939, 23.603\n",
        "\n",
        "pu_241: 2.180, 2.240, 2.305, 1.906, 4.128, 1.690, 2.260, 2.282, 6.990, 8.027, 8.279, 8.261, 8.377, 8.569, 8.428, 7.802, 2.351, 2.365, 2.901, 1.674, 7.512,  5.597, 2.407, 2.341, 3.618, 3.601, 3.600, 2.556, 7.689, 8.300, 8.363, 8.826, 7.248, 2.488, 2.524, 2.275, 9.311, 9.972, 9.970, 9.339, 9.321, 3.836, 3.419, 2.875, 9.839\n",
        "\n",
        "*Использовать Барлетт тест from scipy.stats import bartlett*  \n"
      ],
      "metadata": {
        "id": "iBk45O7UlrzI"
      }
    },
    {
      "cell_type": "code",
      "execution_count": 44,
      "metadata": {
        "id": "kHyIbOuslk6B"
      },
      "outputs": [],
      "source": [
        "import numpy as np\n",
        "import matplotlib.pyplot as plt\n",
        "import scipy.stats as sps\n",
        "from statsmodels.stats.multicomp import pairwise_tukeyhsd\n",
        "import pandas as pd\n",
        "from math import comb"
      ]
    },
    {
      "cell_type": "code",
      "source": [
        "pu_238 = np.array([0.126, 0.133, 0.127, 0.156, 0.503, 0.113, 0.129, 0.124, 1.022, 1.412, 1.533, 1.534, 1.437, 1.439, 1.375, 1.153, 0.201, 0.176, 0.239, 0.102, 1.070, 0.851, 0.125, 0.142, 0.352, 0.351, 0.346, 0.217, 1.068, 1.171, 1.213, 1.226, 1.111, 0.183, 0.162, 0.113, 1.309, 1.638, 1.589, 1.411, 1.457, 0.397, 0.328, 0.242, 1.367])\n",
        "\n",
        "pu_239 = np.array([75.804, 75.515, 75.175, 78.872, 73.317, 79.116, 75.751, 75.326, 63.287, 59.553, 58.688, 58.758, 59.728, 59.544, 59.877, 61.182, 78.244, 78.166, 74.254, 79.840, 62.455, 73.189, 75.968, 75.957, 72.885,72.907, 72.919, 76.089, 70.129, 69.273, 69.147, 68.294, 71.076, 75.714, 76.150, 77.845, 62.382, 60.112, 60.519, 61.585, 61.332, 72.291, 73.451, 74.888, 60.507])\n",
        "\n",
        "pu_240 = np.array([21.204, 21.408, 21.668, 18.428, 20.223, 18.548, 21.162, 21.557, 24.493, 25.576, 25.719, 25.692, 25.146, 25.126, 25.128, 25.100, 18.488, 18.629, 21.515, 17.872, 24.656, 18.285, 20.794, 20.867, 21.718, 21.721, 21.713, 20.225, 18.573, 18.633, 18.640, 18.869, 18.122, 20.750, 20.345, 19.108, 22.754, 23.320, 23.128, 23.133, 23.239, 21.761, 21.429, 20.939, 23.603])\n",
        "\n",
        "pu_241 = np.array([2.180, 2.240, 2.305, 1.906, 4.128, 1.690, 2.260, 2.282, 6.990, 8.027, 8.279, 8.261, 8.377, 8.569, 8.428, 7.802, 2.351, 2.365, 2.901, 1.674, 7.512, 5.597, 2.407, 2.341, 3.618, 3.601, 3.600, 2.556, 7.689, 8.300, 8.363, 8.826, 7.248, 2.488, 2.524, 2.275, 9.311, 9.972, 9.970, 9.339, 9.321, 3.836, 3.419, 2.875, 9.839])\n",
        "\n",
        "alpha = 0.05"
      ],
      "metadata": {
        "id": "1yNUmNFxEcei"
      },
      "execution_count": 3,
      "outputs": []
    },
    {
      "cell_type": "code",
      "source": [
        "# QQ-график\n",
        "plt.figure(figsize=(8, 8))\n",
        "sps.probplot(pu_238, dist=\"norm\", plot=plt)       # pu_239, pu_240, pu_241\n",
        "plt.title('QQ-график для pu_238')\n",
        "plt.xlabel('Теоретические квантильные значения')\n",
        "plt.ylabel('Выборочные квантильные значения')\n",
        "plt.grid()\n",
        "plt.show()"
      ],
      "metadata": {
        "id": "YTMn8fbXG5Vd"
      },
      "execution_count": null,
      "outputs": []
    },
    {
      "cell_type": "code",
      "source": [
        "# Проверка на нормальность\n",
        "\n",
        "sps.shapiro(pu_238)   # ShapiroResult(statistic=0.8199634527370763, pvalue=6.73319701190242e-06)    < 0.05\n",
        "sps.shapiro(pu_239)   # ShapiroResult(statistic=0.8647035711709067, pvalue=8.951498162989275e-05)   < 0.05\n",
        "sps.shapiro(pu_240)   # ShapiroResult(statistic=0.9316781007727523, pvalue=0.010755762117444088)    < 0.05\n",
        "sps.shapiro(pu_241)   # ShapiroResult(statistic=0.8336215046710023, pvalue=1.4246973112356647e-05)  < 0.05\n",
        "# Нормальность не подтверждена"
      ],
      "metadata": {
        "colab": {
          "base_uri": "https://localhost:8080/"
        },
        "id": "17k9Hp-hFNpx",
        "outputId": "15dd61d7-1e31-437b-d103-cf88ed535cff"
      },
      "execution_count": 7,
      "outputs": [
        {
          "output_type": "execute_result",
          "data": {
            "text/plain": [
              "ShapiroResult(statistic=0.8336215046710023, pvalue=1.4246973112356647e-05)"
            ]
          },
          "metadata": {},
          "execution_count": 7
        }
      ]
    },
    {
      "cell_type": "code",
      "source": [
        "# Проверка на равенство дисперсий\n",
        "sps.bartlett(pu_238, pu_239, pu_240, pu_241)\n",
        "# BartlettResult(statistic=193.1803716617602, pvalue=1.2547805439253745e-41) < 0.05\n",
        "# Дисперсии не равны"
      ],
      "metadata": {
        "colab": {
          "base_uri": "https://localhost:8080/"
        },
        "id": "9OQ1UtrlJQDq",
        "outputId": "8bf621b5-8079-4713-e9c1-272723976d5b"
      },
      "execution_count": 13,
      "outputs": [
        {
          "output_type": "execute_result",
          "data": {
            "text/plain": [
              "LeveneResult(statistic=32.992225016706485, pvalue=5.701823714481604e-17)"
            ]
          },
          "metadata": {},
          "execution_count": 13
        }
      ]
    },
    {
      "cell_type": "code",
      "source": [
        "# Т.к. не соблюдаются условия применимости ANOVA, используем Крускал-тест\n",
        "\n",
        "sps.kruskal(pu_238, pu_239, pu_240, pu_241)   # KruskalResult(statistic=167.8178522154513, pvalue=3.76478949748032e-36)\n",
        "# p_value < alpha   ->   Различия между процентным содержанием изотопов плутония наблюдаются"
      ],
      "metadata": {
        "colab": {
          "base_uri": "https://localhost:8080/"
        },
        "id": "HWP09b6fLbjD",
        "outputId": "17e0454b-c561-4ec1-a401-1d22e87291e0"
      },
      "execution_count": 14,
      "outputs": [
        {
          "output_type": "execute_result",
          "data": {
            "text/plain": [
              "KruskalResult(statistic=167.8178522154513, pvalue=3.76478949748032e-36)"
            ]
          },
          "metadata": {},
          "execution_count": 14
        }
      ]
    },
    {
      "cell_type": "markdown",
      "source": [
        "**Задача 2.**  \n",
        "Даны квартальные прибыли акции Johnson&Johnson с 1960-1980 гг.  \n",
        "Есть ли различия прибыли между 4-мя кварталами?  \n",
        "Провести EDA (проверка на нормальность, проверка на однородность дисперсий с помощью Барлетт теста\n",
        "from scipy.stats import bartlett)  \n",
        "*Учитывайте при выборе теста тот факт, что при сбалансированных данных (выборки одинакового объема),\n",
        "неоднородность дисперсий слабо влияет на результат.*  \n",
        " JJ_1=np.array([0.71, 0.63, 0.85, 0.44, 0.61, 0.69, 0.92, 0.55, 0.72, 0.77, 0.92, 0.60, 0.83, 0.80, 1.00, 0.77, 0.92, 1.00, 1.24, 1.00, 1.16 ])  \n",
        " JJ_2=np.array([1.30, 1.45, 1.25, 1.26, 1.38, 1.86, 1.56, 1.53, 1.59, 1.83, 1.86, 1.53, 2.07, 2.34, 2.25, 2.16, 2.43, 2.70, 2.25, 2.79, 3.42 ])  \n",
        " JJ_3=np.array([3.69, 3.60, 3.60, 4.32, 4.32, 4.05, 4.86, 5.04, 5.04, 4.41, 5.58, 5.85, 6.57, 5.31, 6.03, 6.39, 6.93, 5.85, 6.93, 7.74,  7.83])  \n",
        " JJ_4=np.array([6.12,  7.74,  8.91,  8.28, 6.84,  9.54, 10.26,  9.54, 8.73, 11.88, 12.06, 12.15, 8.91, 14.04, 12.96, 14.85, 9.99, 16.20, 14.67, 16.02, 11.61 ])"
      ],
      "metadata": {
        "id": "YQyZIghHOw_P"
      }
    },
    {
      "cell_type": "code",
      "source": [
        "JJ_1=np.array([0.71, 0.63, 0.85, 0.44, 0.61, 0.69, 0.92, 0.55, 0.72, 0.77, 0.92, 0.60, 0.83, 0.80, 1.00, 0.77, 0.92, 1.00, 1.24, 1.00, 1.16 ])\n",
        "JJ_2=np.array([1.30, 1.45, 1.25, 1.26, 1.38, 1.86, 1.56, 1.53, 1.59, 1.83, 1.86, 1.53, 2.07, 2.34, 2.25, 2.16, 2.43, 2.70, 2.25, 2.79, 3.42 ])\n",
        "JJ_3=np.array([3.69, 3.60, 3.60, 4.32, 4.32, 4.05, 4.86, 5.04, 5.04, 4.41, 5.58, 5.85, 6.57, 5.31, 6.03, 6.39, 6.93, 5.85, 6.93, 7.74, 7.83])\n",
        "JJ_4=np.array([6.12, 7.74, 8.91, 8.28, 6.84, 9.54, 10.26, 9.54, 8.73, 11.88, 12.06, 12.15, 8.91, 14.04, 12.96, 14.85, 9.99, 16.20, 14.67, 16.02, 11.61 ])\n",
        "\n",
        "alpha = 0.05"
      ],
      "metadata": {
        "id": "MfjYPqMEPCTL"
      },
      "execution_count": 15,
      "outputs": []
    },
    {
      "cell_type": "code",
      "source": [
        "# QQ-график\n",
        "plt.figure(figsize=(8, 8))\n",
        "sps.probplot(JJ_1, dist=\"norm\", plot=plt)       # JJ_2, JJ_3, JJ_4\n",
        "plt.title('QQ-график')\n",
        "plt.xlabel('Теоретические квантильные значения')\n",
        "plt.ylabel('Выборочные квантильные значения')\n",
        "plt.grid()\n",
        "plt.show()"
      ],
      "metadata": {
        "id": "viE4pa9pPP7F"
      },
      "execution_count": null,
      "outputs": []
    },
    {
      "cell_type": "code",
      "source": [
        "# Проверка на нормальность\n",
        "\n",
        "sps.shapiro(JJ_1)   # ShapiroResult(statistic=0.9837693211623376, pvalue=0.968833749631303)    > 0.05\n",
        "sps.shapiro(JJ_2)   # ShapiroResult(statistic=0.9252572389631506, pvalue=0.11057770193578415)  > 0.05\n",
        "sps.shapiro(JJ_3)   # ShapiroResult(statistic=0.9523219118294529, pvalue=0.37654774855221285)  > 0.05\n",
        "sps.shapiro(JJ_4)   # ShapiroResult(statistic=0.9590808286661731, pvalue=0.49780511097182895)  > 0.05\n",
        "# Нормальность подтверждена"
      ],
      "metadata": {
        "colab": {
          "base_uri": "https://localhost:8080/"
        },
        "id": "1lmuZSmtPlMK",
        "outputId": "354a0d19-94d9-49a8-eee9-f1d9bf53a5eb"
      },
      "execution_count": 24,
      "outputs": [
        {
          "output_type": "execute_result",
          "data": {
            "text/plain": [
              "ShapiroResult(statistic=0.9590808286661731, pvalue=0.49780511097182895)"
            ]
          },
          "metadata": {},
          "execution_count": 24
        }
      ]
    },
    {
      "cell_type": "code",
      "source": [
        "# Проверка на равенство дисперсий\n",
        "sps.bartlett(JJ_1, JJ_2, JJ_3, JJ_4)\n",
        "# BartlettResult(statistic=109.62893110687119, pvalue=1.3188378332498392e-23) < 0.05\n",
        "len(JJ_1), len(JJ_2), len(JJ_3), len(JJ_4)      # (21, 21, 21, 21)\n",
        "# Дисперсии не равны, однако при сбалансированных данных (выборки одинакового объема), неоднородность дисперсий слабо влияет на результат"
      ],
      "metadata": {
        "colab": {
          "base_uri": "https://localhost:8080/"
        },
        "id": "HWf2rR1VQHpZ",
        "outputId": "80fdae7f-3d10-414f-c112-8375c4c17332"
      },
      "execution_count": 27,
      "outputs": [
        {
          "output_type": "execute_result",
          "data": {
            "text/plain": [
              "(21, 21, 21, 21)"
            ]
          },
          "metadata": {},
          "execution_count": 27
        }
      ]
    },
    {
      "cell_type": "code",
      "source": [
        "sps.f_oneway(JJ_1, JJ_2, JJ_3, JJ_4)\n",
        "# F_onewayResult(statistic=162.03157448390618, pvalue=6.81307443530621e-34)\n",
        "# p_value < alpha   ->   статистически значимые различия обнаружены"
      ],
      "metadata": {
        "colab": {
          "base_uri": "https://localhost:8080/"
        },
        "id": "FJQsMFB0Q0an",
        "outputId": "c507ef3e-5af9-4acc-8a8a-529193420e4c"
      },
      "execution_count": 28,
      "outputs": [
        {
          "output_type": "execute_result",
          "data": {
            "text/plain": [
              "F_onewayResult(statistic=162.03157448390618, pvalue=6.81307443530621e-34)"
            ]
          },
          "metadata": {},
          "execution_count": 28
        }
      ]
    },
    {
      "cell_type": "markdown",
      "source": [
        "**Задача 3.**  \n",
        "Провести post hoc tests к задаче 2  \n",
        "Между какими группами не обнаружено статистически значимых различий?  "
      ],
      "metadata": {
        "id": "vlf66gXfYDfL"
      }
    },
    {
      "cell_type": "code",
      "source": [
        "df = pd.DataFrame(\n",
        "    {'score': np.concatenate((JJ_1, JJ_2, JJ_3, JJ_4)),\n",
        "     'group': np.repeat(['JJ_1', 'JJ_2', 'JJ_3', 'JJ_4'], repeats=21)}\n",
        ")\n",
        "\n",
        "tukey = pairwise_tukeyhsd(df['score'],\n",
        "                          df['group'],\n",
        "                          alpha=0.05)\n",
        "print(tukey)\n",
        "\n",
        "# Между первой и второй группой не обнаружено статистически значимых различий"
      ],
      "metadata": {
        "colab": {
          "base_uri": "https://localhost:8080/"
        },
        "id": "qMhHa7j3V0-D",
        "outputId": "67ab76b5-95d0-4637-c1b3-2a8513eaf106"
      },
      "execution_count": 37,
      "outputs": [
        {
          "output_type": "stream",
          "name": "stdout",
          "text": [
            "Multiple Comparison of Means - Tukey HSD, FWER=0.05 \n",
            "====================================================\n",
            "group1 group2 meandiff p-adj   lower   upper  reject\n",
            "----------------------------------------------------\n",
            "  JJ_1   JJ_2   1.1276 0.1282 -0.2087   2.464  False\n",
            "  JJ_1   JJ_3     4.61    0.0  3.2737  5.9463   True\n",
            "  JJ_1   JJ_4  10.1986    0.0  8.8622 11.5349   True\n",
            "  JJ_2   JJ_3   3.4824    0.0   2.146  4.8187   True\n",
            "  JJ_2   JJ_4    9.071    0.0  7.7346 10.4073   True\n",
            "  JJ_3   JJ_4   5.5886    0.0  4.2522  6.9249   True\n",
            "----------------------------------------------------\n"
          ]
        }
      ]
    },
    {
      "cell_type": "markdown",
      "source": [
        "**Задача 4.**  \n",
        "Даны веса пациентов до и после диеты. Веса распределены нормально  \n",
        "До 92.8 , 95.6,  92.1, 100.6,  96.2,  92.1,  96.7,  97.6,  97.0,  93.9   \n",
        "После 87.1, 84.1, 81.3, 77.0, 86.0, 82.9, 83.0, 85.5, 85.2, 84.6   \n",
        "Проверить гипотезу о, том что средний вес пациентов после диеты статистически\n",
        "меньше веса до диеты  \n",
        " 1) Используйте  alternative='greater‘  \n",
        " 2) alternative=‘less‘   (stats.ttest_rel(a,b, alternative = \"less\"))  \n",
        " 3) 'two-sided'    \n",
        "Объясните полученные результаты p-value  для каждого случая"
      ],
      "metadata": {
        "id": "6_c5O7X9YBX0"
      }
    },
    {
      "cell_type": "markdown",
      "source": [
        "1) Alternative='greater'\n",
        "Этот тест проверяет гипотезу H0: средний вес после диеты >= средний вес до диеты (альтернативная гипотеза H1: средний вес после диеты < средний вес до диеты).\n",
        "2) Alternative='less'\n",
        "Этот тест проверяет гипотезу H0: средний вес после диеты <= средний вес до диеты (альтернативная гипотеза H1: средний вес после диеты > средний вес до диеты).\n",
        "3) Alternative='two-sided'\n",
        "Этот тест проверяет гипотезу H0: средние веса равны (альтернативная гипотеза H1: средние веса не равны)."
      ],
      "metadata": {
        "id": "2pddXwuhe1Ou"
      }
    },
    {
      "cell_type": "code",
      "source": [
        "before = np.array([92.8 , 95.6, 92.1, 100.6, 96.2, 92.1, 96.7, 97.6, 97.0, 93.9])\n",
        "after = np.array([ 87.1, 84.1, 81.3, 77.0, 86.0, 82.9, 83.0, 85.5, 85.2, 84.6])\n",
        "alpha=0.05\n",
        "\n",
        "# 1) H0: средний вес после диеты >= средний вес до диеты (альтернативная гипотеза H1: средний вес после диеты < средний вес до диеты)\n",
        "sps.ttest_rel(before, after, alternative='greater')\n",
        "# TtestResult(statistic=7.972831441034037, pvalue=1.1372213723408018e-05, df=9)\n",
        "# p-value < alpha   ->  H1: средний вес пациента после диеты < среднего веса пациента до диеты\n",
        "\n",
        "# 2) H0: средний вес после диеты <= средний вес до диеты (альтернативная гипотеза H1: средний вес после диеты > средний вес до диеты)\n",
        "sps.ttest_rel(before, after, alternative='less')\n",
        "# TtestResult(statistic=7.972831441034037, pvalue=0.9999886277862766, df=9)\n",
        "# p-value > alpha   ->  H0: средний вес после диеты <= средний вес до диеты\n",
        "\n",
        "# 3) H0: средние веса равны (альтернативная гипотеза H1: средние веса не равны).\n",
        "sps.ttest_rel(before, after)        # alternative='two-sided' - используется по умолчанию, указывать необязательно\n",
        "# TtestResult(statistic=7.972831441034037, pvalue=2.2744427446816035e-05, df=9)\n",
        "# p-value < alpha   ->  H1: средние веса не равны"
      ],
      "metadata": {
        "colab": {
          "base_uri": "https://localhost:8080/"
        },
        "id": "C4th7gkFY0ip",
        "outputId": "8b437540-c6f5-430d-889f-0aea5977b73b"
      },
      "execution_count": 41,
      "outputs": [
        {
          "output_type": "execute_result",
          "data": {
            "text/plain": [
              "TtestResult(statistic=7.972831441034037, pvalue=2.2744427446816035e-05, df=9)"
            ]
          },
          "metadata": {},
          "execution_count": 41
        }
      ]
    },
    {
      "cell_type": "markdown",
      "source": [
        "**Задача 6.**  \n",
        "В одной группе из 100 больных наблюдалось улучшение у 75, а в другой из 100 больных\n",
        "среди 69.  \n",
        "Оценить с помощью доверительного интервала разность долей больных, у которых наблюдались улучшения.\n"
      ],
      "metadata": {
        "id": "NZNXLDxUfxXh"
      }
    },
    {
      "cell_type": "code",
      "source": [
        "n1 = n2 = 100\n",
        "m1 = 75\n",
        "m2 = 69\n",
        "alpha = 0.05\n",
        "\n",
        "p1 = m1 / n1\n",
        "p2 = m2 / n2\n",
        "\n",
        "p = (m1 + m2) / (n1 + n2)\n",
        "delta = p1 - p2\n",
        "S_delta = np.sqrt(p * (1 - p) * (1/n1 + 1/n2))\n",
        "z_crit = sps.norm.ppf(alpha/2)\n",
        "\n",
        "u = delta + z_crit * S_delta\n",
        "l = delta - z_crit * S_delta\n",
        "u, l\n",
        "# (-0.06445385476166943, 0.18445385476166953)"
      ],
      "metadata": {
        "colab": {
          "base_uri": "https://localhost:8080/"
        },
        "id": "LvDeXDSSf6jt",
        "outputId": "751847ba-9150-4fba-8612-abf1e9bcb010"
      },
      "execution_count": 43,
      "outputs": [
        {
          "output_type": "execute_result",
          "data": {
            "text/plain": [
              "(-0.06445385476166943, 0.18445385476166953)"
            ]
          },
          "metadata": {},
          "execution_count": 43
        }
      ]
    },
    {
      "cell_type": "markdown",
      "source": [
        "**Задача 7.**  \n",
        "Какова вероятность, что в наудачу выбранном двузначном числе цифры одинаковые?"
      ],
      "metadata": {
        "id": "LX5F8ambiALR"
      }
    },
    {
      "cell_type": "code",
      "source": [
        "cnt_two = 90\n",
        "cnt_same = 9\n",
        "p = cnt_same / cnt_two          # 10%"
      ],
      "metadata": {
        "colab": {
          "base_uri": "https://localhost:8080/"
        },
        "id": "Yv1VLb3viGui",
        "outputId": "0b0f072d-316b-4877-b6fc-e70c0ff77ee9"
      },
      "execution_count": 47,
      "outputs": [
        {
          "output_type": "execute_result",
          "data": {
            "text/plain": [
              "0.1"
            ]
          },
          "metadata": {},
          "execution_count": 47
        }
      ]
    },
    {
      "cell_type": "markdown",
      "source": [
        "# Домашка"
      ],
      "metadata": {
        "id": "BPVymF6mmXOp"
      }
    },
    {
      "cell_type": "markdown",
      "source": [
        "**Задание 1.**  \n",
        "Провести дисперсионный анализ для определения того, есть ли различия среднего роста среди взрослых футболистов, хоккеистов и штангистов.  \n",
        "Даны значения роста в трех группах случайно выбранных спортсменов:  \n",
        "Футболисты: 173, 175, 180, 178, 177, 185, 183, 182.  \n",
        "Хоккеисты: 177, 179, 180, 188, 177, 172, 171, 184, 180.  \n",
        "Штангисты: 172, 173, 169, 177, 166, 180, 178, 177, 172, 166, 170."
      ],
      "metadata": {
        "id": "psXTd0-jmZvz"
      }
    },
    {
      "cell_type": "code",
      "source": [
        "soccer = np.array([173, 175, 180, 178, 177, 185, 183, 182])\n",
        "hockey = np.array([177, 179, 180, 188, 177, 172, 171, 184, 180])\n",
        "barbell = np.array([172, 173, 169, 177, 166, 180, 178, 177, 172, 166, 170])\n",
        "\n",
        "alpha = 0.05"
      ],
      "metadata": {
        "id": "bng0CLPDmmga"
      },
      "execution_count": 48,
      "outputs": []
    },
    {
      "cell_type": "code",
      "source": [
        "# Проверка на нормальность\n",
        "\n",
        "sps.shapiro(soccer)   # ShapiroResult(statistic=0.9775081982196379, pvalue=0.9495400664151513)    > 0.05\n",
        "sps.shapiro(hockey)   # ShapiroResult(statistic=0.957919718551844, pvalue=0.7763139669394437)     > 0.05\n",
        "sps.shapiro(barbell)  # ShapiroResult(statistic=0.9386807421264948, pvalue=0.5051151338730138)    > 0.05\n",
        "\n",
        "# Нормальность подтверждена"
      ],
      "metadata": {
        "colab": {
          "base_uri": "https://localhost:8080/"
        },
        "id": "jnGQIxsuoFXb",
        "outputId": "2a12aea0-3b0d-46e8-b5b1-1b28a26420a9"
      },
      "execution_count": 54,
      "outputs": [
        {
          "output_type": "execute_result",
          "data": {
            "text/plain": [
              "ShapiroResult(statistic=0.9386807421264948, pvalue=0.5051151338730138)"
            ]
          },
          "metadata": {},
          "execution_count": 54
        }
      ]
    },
    {
      "cell_type": "code",
      "source": [
        "# Проверка на равенство дисперсий\n",
        "sps.bartlett(soccer, hockey, barbell)\n",
        "# BartlettResult(statistic=0.4640521043406442, pvalue=0.7929254656083131) > 0.05\n",
        "# Все дисперсии совокупности равны"
      ],
      "metadata": {
        "colab": {
          "base_uri": "https://localhost:8080/"
        },
        "id": "GPZsv5mQyzDo",
        "outputId": "049e22f2-e717-480e-eb8a-76333a449663"
      },
      "execution_count": 55,
      "outputs": [
        {
          "output_type": "execute_result",
          "data": {
            "text/plain": [
              "BartlettResult(statistic=0.4640521043406442, pvalue=0.7929254656083131)"
            ]
          },
          "metadata": {},
          "execution_count": 55
        }
      ]
    },
    {
      "cell_type": "code",
      "source": [
        "sps.f_oneway(soccer, hockey, barbell)\n",
        "# F_onewayResult(statistic=5.500053450812596, pvalue=0.010482206918698694)\n",
        "# p_value < alpha   -> статистически значимые различия в выборках обнаружены"
      ],
      "metadata": {
        "colab": {
          "base_uri": "https://localhost:8080/"
        },
        "id": "mpQyP9xlzhdA",
        "outputId": "7620ffa0-b4c4-4d25-fdd3-e747f9e65a37"
      },
      "execution_count": 56,
      "outputs": [
        {
          "output_type": "execute_result",
          "data": {
            "text/plain": [
              "F_onewayResult(statistic=5.500053450812596, pvalue=0.010482206918698694)"
            ]
          },
          "metadata": {},
          "execution_count": 56
        }
      ]
    },
    {
      "cell_type": "code",
      "source": [
        "# Post hoc test Tukey\n",
        "df1 = pd.DataFrame({\n",
        "    'height': np.concatenate((soccer, hockey, barbell)),\n",
        "    'sport': ['soccer'] * len(soccer) + ['hockey'] * len(hockey) + ['barbell'] * len(barbell)\n",
        "})\n",
        "tukey1 = pairwise_tukeyhsd(df1['height'],\n",
        "                          df1['sport'],\n",
        "                          alpha=0.05)\n",
        "print(tukey1)\n",
        "\n",
        "# Статистически значимые различия онаружены между ростом штангистов и футболистов, а также между ростом штангистов и хоккеистов. Спортсмены хоккеисты и футболисты по росту статистически не отличаются между собой."
      ],
      "metadata": {
        "colab": {
          "base_uri": "https://localhost:8080/"
        },
        "id": "tSz3nMmEz75T",
        "outputId": "9a3d4a17-42ac-4a9d-909c-93b7385d5f68"
      },
      "execution_count": 61,
      "outputs": [
        {
          "output_type": "stream",
          "name": "stdout",
          "text": [
            " Multiple Comparison of Means - Tukey HSD, FWER=0.05 \n",
            "=====================================================\n",
            " group1 group2 meandiff p-adj   lower   upper  reject\n",
            "-----------------------------------------------------\n",
            "barbell hockey   5.9394 0.0284  0.5607 11.3181   True\n",
            "barbell soccer   6.3977 0.0219  0.8372 11.9583   True\n",
            " hockey soccer   0.4583  0.979 -5.3566  6.2732  False\n",
            "-----------------------------------------------------\n"
          ]
        }
      ]
    }
  ]
}