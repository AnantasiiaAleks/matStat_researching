{
  "nbformat": 4,
  "nbformat_minor": 0,
  "metadata": {
    "colab": {
      "provenance": [],
      "authorship_tag": "ABX9TyPrOpP/KMBFkoreUl+HHoci",
      "include_colab_link": true
    },
    "kernelspec": {
      "name": "python3",
      "display_name": "Python 3"
    },
    "language_info": {
      "name": "python"
    }
  },
  "cells": [
    {
      "cell_type": "markdown",
      "metadata": {
        "id": "view-in-github",
        "colab_type": "text"
      },
      "source": [
        "<a href=\"https://colab.research.google.com/github/AnantasiiaAleks/matStat_researching/blob/main/Discretnye_raspredeleniya_seminar2.ipynb\" target=\"_parent\"><img src=\"https://colab.research.google.com/assets/colab-badge.svg\" alt=\"Open In Colab\"/></a>"
      ]
    },
    {
      "cell_type": "markdown",
      "source": [
        "**Задача 1.** Найдите математическое ожидание случайной величины  X, распределенной по биномиальному закону с параметрами n =100, р=0.3.\n",
        "\n",
        "Математическое ожидание: M(X) = n * p"
      ],
      "metadata": {
        "id": "9TAQd_9uMkts"
      }
    },
    {
      "cell_type": "code",
      "execution_count": null,
      "metadata": {
        "colab": {
          "base_uri": "https://localhost:8080/"
        },
        "id": "ebxrh8WoMWbL",
        "outputId": "19d9683a-dd44-4b80-97af-7d5ebb04548c"
      },
      "outputs": [
        {
          "output_type": "stream",
          "name": "stdout",
          "text": [
            "Математическое ожидание составляет: 30.0.\n"
          ]
        }
      ],
      "source": [
        "n = 100\n",
        "p = 0.3\n",
        "m_x = n * p\n",
        "print(f'Математическое ожидание составляет: {m_x}.')"
      ]
    },
    {
      "cell_type": "markdown",
      "source": [
        "**Задача 2.** Найти ско (среднее квадратичное отклонение)  СВ Х, распределенной по биномиальному закону с параметрами n=50, p=0.6\n",
        "\n",
        "СКО: sqrt(D(X))\n",
        "Дисперсия: D(X) = n * p * q\n",
        "q = 1 - p\n"
      ],
      "metadata": {
        "id": "SZSnSW3oNSWR"
      }
    },
    {
      "cell_type": "code",
      "source": [
        "from math import sqrt\n",
        "\n",
        "n = 50\n",
        "p = 0.6\n",
        "q = 1 - p\n",
        "d_x = n * p * q\n",
        "sko = sqrt(d_x)\n",
        "\n",
        "print(f'Среднее квадратичное отклонение составляет: {sko: .3f}.')"
      ],
      "metadata": {
        "colab": {
          "base_uri": "https://localhost:8080/"
        },
        "id": "EaLY9fJ-OW8_",
        "outputId": "21f487ec-bde7-4e62-c622-634d336220a7"
      },
      "execution_count": null,
      "outputs": [
        {
          "output_type": "stream",
          "name": "stdout",
          "text": [
            "Среднее квадратичное отклонение составляет:  3.464.\n"
          ]
        }
      ]
    },
    {
      "cell_type": "markdown",
      "source": [
        "**Задача 3.** Вероятность события А в каждом независимом испытании 0.0015. Какова вероятность того, что при 2000 испытаниях событие А появится  3 раза.\n",
        "\n",
        "Формула Пуассона P(m) = lambda^m / m! * e^-lambda\n",
        "Формула Бернулли P(k) = C(k_n) * p^k * q^(n-k), где q = 1-p\n",
        "Третий вариант решения - с помощью библиотеки scipy.stats - binom\n",
        "\n"
      ],
      "metadata": {
        "id": "s-yzyxItPPg5"
      }
    },
    {
      "cell_type": "code",
      "source": [
        "import math\n",
        "\n",
        "m = 3\n",
        "n = 2000\n",
        "p = 0.0015\n",
        "\n",
        "h = p * n\n",
        "P_m = h**m / math.factorial(m) * math.e**(-h)\n",
        "\n",
        "print(f'Вероятность трехкратного проявления события А в 2000 испытаниях составляет около: {P_m * 100: .2f}%.')"
      ],
      "metadata": {
        "colab": {
          "base_uri": "https://localhost:8080/"
        },
        "id": "Nu4l4Ix8QWu1",
        "outputId": "70db9177-bbef-4962-dddc-654c0e1f5d1a"
      },
      "execution_count": null,
      "outputs": [
        {
          "output_type": "stream",
          "name": "stdout",
          "text": [
            "Вероятность трехкратного проявления события А в 2000 испытаниях составляет около:  22.40%.\n"
          ]
        }
      ]
    },
    {
      "cell_type": "code",
      "source": [
        "import math\n",
        "\n",
        "k = 3\n",
        "n = 2000\n",
        "p = 0.0015\n",
        "\n",
        "c_k_n = math.comb(n, k)\n",
        "P_k = c_k_n * p**k * (1 - p)**(n - k)\n",
        "\n",
        "print(f'Вероятность трехкратного проявления события А в 2000 испытаниях составляет: {P_k * 100: .2f}%.')"
      ],
      "metadata": {
        "colab": {
          "base_uri": "https://localhost:8080/"
        },
        "id": "ZJ54ONqQSDud",
        "outputId": "dbeb3dcb-27b6-4e3c-8fb7-e6ac95c1c370"
      },
      "execution_count": null,
      "outputs": [
        {
          "output_type": "stream",
          "name": "stdout",
          "text": [
            "c_k_n= 1331334000\n",
            "Вероятность трехкратного проявления события А в 2000 испытаниях составляет:  22.42%.\n"
          ]
        }
      ]
    },
    {
      "cell_type": "code",
      "source": [
        "from scipy.stats import binom\n",
        "\n",
        "n = 2000\n",
        "k = 3\n",
        "p = 0.0015\n",
        "\n",
        "probability = binom.pmf(k, n, p)\n",
        "\n",
        "print(f'Вероятность того, что событие A появится {k} раз: {probability * 100: .2f}%')"
      ],
      "metadata": {
        "colab": {
          "base_uri": "https://localhost:8080/"
        },
        "id": "JsmtgCGeUIrV",
        "outputId": "80467190-0c61-43d6-f29c-75353943979b"
      },
      "execution_count": null,
      "outputs": [
        {
          "output_type": "stream",
          "name": "stdout",
          "text": [
            "Вероятность того, что событие A появится 3 раз:  22.42%\n"
          ]
        }
      ]
    },
    {
      "cell_type": "markdown",
      "source": [
        "**Задача 4.** Подбрасывают 4 одинаковые монеты. Какова вероятность, что решка выпадет не более 1 раза"
      ],
      "metadata": {
        "id": "rHDgBlgBU_U5"
      }
    },
    {
      "cell_type": "code",
      "source": [
        "import math\n",
        "\n",
        "n = 4\n",
        "k0 = 0\n",
        "k1 = 1\n",
        "p = 0.5\n",
        "\n",
        "c_k0_n = math.comb(n, k0)\n",
        "c_k1_n = math.comb(n, k1)\n",
        "c_k_n = c_k0_n + c_k1_n\n",
        "P_k = c_k_n * p**k * (1 - p)**(n - k)\n",
        "\n",
        "print(f'Вероятность составляет {P_k * 100: .2f}%.')"
      ],
      "metadata": {
        "colab": {
          "base_uri": "https://localhost:8080/"
        },
        "id": "q2kJgvKrWXdF",
        "outputId": "b28ec3f4-9b2e-4894-ecfa-bbb213cfad5b"
      },
      "execution_count": null,
      "outputs": [
        {
          "output_type": "stream",
          "name": "stdout",
          "text": [
            "Вероятность составляет  31.25%.\n"
          ]
        }
      ]
    },
    {
      "cell_type": "code",
      "source": [
        "from scipy.stats import binom\n",
        "n = 4\n",
        "k0 = 0\n",
        "k1 = 1\n",
        "p = 0.5\n",
        "\n",
        "prob0 = binom.pmf(k0, n, p)\n",
        "prob1 = binom.pmf(k1, n, p)\n",
        "\n",
        "probability = prob0 + prob1\n",
        "\n",
        "print(f'Вероятность составляет: {probability * 100: .2f}%.')"
      ],
      "metadata": {
        "colab": {
          "base_uri": "https://localhost:8080/"
        },
        "id": "TVna_K85XXvf",
        "outputId": "b70a4dcb-f46d-46ce-e61c-cc12178e7a8c"
      },
      "execution_count": null,
      "outputs": [
        {
          "output_type": "stream",
          "name": "stdout",
          "text": [
            "Вероятность составляет:  31.25%.\n"
          ]
        }
      ]
    },
    {
      "cell_type": "markdown",
      "source": [
        "**Задача 5.** Сколько раз надо подбросить игральный кубик, чтобы наивероятнейшее число выпаданий тройки  было 30."
      ],
      "metadata": {
        "id": "qnqwgqZ0aDu2"
      }
    },
    {
      "cell_type": "code",
      "source": [
        "import math\n",
        "\n",
        "M_X = 30\n",
        "p = 1 / 6\n",
        "n = M_X / p\n",
        "\n",
        "print(f'Количество бросков должно быть: {n}.')"
      ],
      "metadata": {
        "colab": {
          "base_uri": "https://localhost:8080/"
        },
        "id": "BN1RfD_CaT3A",
        "outputId": "b48556d4-9f5c-4f42-8275-de946907e4f0"
      },
      "execution_count": null,
      "outputs": [
        {
          "output_type": "stream",
          "name": "stdout",
          "text": [
            "Количество бросков должно быть: 180.0.\n"
          ]
        }
      ]
    },
    {
      "cell_type": "markdown",
      "source": [
        "**Задача 6.** Какова вероятность наступления события В в каждом отдельном испытании, если наивероятнейшее число наступления события в 120 испытаниях составило 32.\n",
        "\n",
        "n = 120\n",
        "k0 = 31\n",
        "\n",
        "np-q <= k0 <= np+p\n",
        "\n",
        "120p-(1-p) <= 32      120p+p >= 32\n",
        "\n",
        "121p <= 33            121p >= 32\n",
        "\n",
        "32/121 <= p <= 33/121"
      ],
      "metadata": {
        "id": "0BvwMJMxb8Od"
      }
    },
    {
      "cell_type": "markdown",
      "source": [
        "**Задача 7.** Найти вероятность, что среди взятых наугад 5 деталей 2 стандартные, если вероятность детали быть стандартной равна 0.9"
      ],
      "metadata": {
        "id": "_x-G3636ljlm"
      }
    },
    {
      "cell_type": "code",
      "source": [
        "import math\n",
        "\n",
        "p = 0.9\n",
        "n = 5\n",
        "k = 2\n",
        "q = 1-p\n",
        "\n",
        "c = math.comb(n, k)\n",
        "prob = c * p**k * q**(n-k)\n",
        "print(f'Вероятность составляет: {prob * 100: .2f}%')"
      ],
      "metadata": {
        "colab": {
          "base_uri": "https://localhost:8080/"
        },
        "id": "g5AefRfNHI_9",
        "outputId": "452fe071-dcc1-420e-ab84-c65a8d17a45a"
      },
      "execution_count": null,
      "outputs": [
        {
          "output_type": "stream",
          "name": "stdout",
          "text": [
            "Вероятность составляет:  0.81%\n"
          ]
        }
      ]
    },
    {
      "cell_type": "code",
      "source": [
        "from scipy.stats import binom\n",
        "\n",
        "k = 2\n",
        "n = 5\n",
        "p = 0.9\n",
        "\n",
        "prob = binom.pmf(k, n, p)\n",
        "print(f'Вероятность составляет: {prob * 100: .2f}%')"
      ],
      "metadata": {
        "colab": {
          "base_uri": "https://localhost:8080/"
        },
        "id": "Fjod04xKnHmd",
        "outputId": "f4bbe2bb-db93-4880-c81f-ac2c833a4675"
      },
      "execution_count": null,
      "outputs": [
        {
          "output_type": "stream",
          "name": "stdout",
          "text": [
            "Вероятность составляет:  0.81%\n"
          ]
        }
      ]
    },
    {
      "cell_type": "markdown",
      "source": [
        "**Задача 8.** Определить наиболее вероятное число выпадений герба при 25 подбрасываниях монетки.\n",
        "\n",
        "\n",
        "Наиболее вероятное число успехов в биномиальном распределении происходит вблизи значения np, где n — общее число испытаний, а p — вероятность успеха.\n",
        "\n",
        "1. У нас n = 25, p = 0.5.\n",
        "2. Рассчитаем np:\n",
        "\n",
        "   np = 25 * 0.5 = 12.5\n",
        "\n",
        "Поскольку количество выпадений не может быть дробным, мы округляем до ближайших целых чисел: 12 и 13.\n",
        "\n",
        "3. Проверим вероятность для 12 и 13:\n",
        "\n",
        "- Для 12:\n",
        "  - P(X = 12) = C(25, 12)  (0.5^12)  (0.5^(25-12))\n",
        "\n",
        "- Для 13:\n",
        "  - P(X = 13) = C(25, 13)  (0.5^13)  (0.5^(25-13))\n",
        "\n",
        "\n",
        "Таким образом, поскольку значения Р(Х=12) и Р(Х=13) равны, наиболее вероятные числа, выпадающие герба при 25 подбрасываниях монетки, это 12 или 13."
      ],
      "metadata": {
        "id": "QxZdW1Jkn0Gh"
      }
    },
    {
      "cell_type": "code",
      "source": [
        "import math\n",
        "\n",
        "c_12 = math.comb(25, 12)\n",
        "c_13 = math.comb(25, 13)\n",
        "p_12 = c_12 * 0.5**12 * 0.5**(25-12)\n",
        "p_13 = c_13 * 0.5**13 * 0.5**(25-13)\n",
        "\n",
        "print(f'{c_12= }')\n",
        "print(f'{c_13= }')"
      ],
      "metadata": {
        "colab": {
          "base_uri": "https://localhost:8080/"
        },
        "id": "bfOl2HGdzkk2",
        "outputId": "22209001-936a-46da-81c0-dfe56427c375"
      },
      "execution_count": null,
      "outputs": [
        {
          "output_type": "stream",
          "name": "stdout",
          "text": [
            "c_12= 5200300\n",
            "c_13= 5200300\n"
          ]
        }
      ]
    },
    {
      "cell_type": "markdown",
      "source": [
        "**Задача 9.**  Вероятность рождения мальчиков 0.515. Найти наивероятнейшее число девочек из 600 новорожденных.\n",
        "\n",
        "n = 600  \n",
        "p = 1 - 0.515  \n",
        "np = 600 * (1-0.515) = 291\n"
      ],
      "metadata": {
        "id": "XM0GFHm8oApf"
      }
    },
    {
      "cell_type": "markdown",
      "source": [
        "# Домашка"
      ],
      "metadata": {
        "id": "wbJ-rWB02unu"
      }
    },
    {
      "cell_type": "markdown",
      "source": [
        " **Задание 1.**  \n",
        " Вероятность того, что стрелок попадет в мишень, выстрелив один раз, равна 0.8.\n",
        " Стрелок выстрелил 100 раз. Найдите вероятность того, что стрелок попадет в\n",
        " цель ровно 85 раз."
      ],
      "metadata": {
        "id": "lPKsq4cI209i"
      }
    },
    {
      "cell_type": "code",
      "source": [
        "from scipy.stats import binom\n",
        "\n",
        "k = 85\n",
        "n = 100\n",
        "p = 0.8\n",
        "\n",
        "prob = binom.pmf(k, n, p)\n",
        "\n",
        "print(f'Вероятность составляет {prob * 100: .2f}%')"
      ],
      "metadata": {
        "colab": {
          "base_uri": "https://localhost:8080/"
        },
        "id": "LVaq0itJ24N9",
        "outputId": "2147d482-0dd2-4994-e552-ab88c52973e8"
      },
      "execution_count": null,
      "outputs": [
        {
          "output_type": "stream",
          "name": "stdout",
          "text": [
            "Вероятность составляет  4.81%\n"
          ]
        }
      ]
    },
    {
      "cell_type": "markdown",
      "source": [
        "**Задача 2.**  \n",
        " Вероятность того, что лампочка перегорит в течение первого дня эксплуатации, равна 0.0004. В жилом комплексе после ремонта в один день включили 5000 новых лампочек.  \n",
        "Какова вероятность, что ни одна из них не перегорит в первый день? Какова вероятность, что перегорят ровно две?"
      ],
      "metadata": {
        "id": "qSzP0Vug3lwI"
      }
    },
    {
      "cell_type": "code",
      "source": [
        "from scipy.stats import poisson\n",
        "\n",
        "p = 0.0004\n",
        "n = 5000\n",
        "k0 = 0\n",
        "k2 = 2\n",
        "\n",
        "avg_occur = p * n\n",
        "\n",
        "prob_0 = poisson.pmf(k0, avg_occur)\n",
        "prob_2 = poisson.pmf(k2, avg_occur)\n",
        "\n",
        "print(f'Вероятность того, что не перегорит ни одной лампочки составляет около {prob_0 * 100: .2f}%')\n",
        "print(f'Вероятность того, что перегорит всего две лампочки составляет около {prob_2 * 100: .2f}%')"
      ],
      "metadata": {
        "colab": {
          "base_uri": "https://localhost:8080/"
        },
        "id": "D11ct68CmqvQ",
        "outputId": "8a37be36-45d4-4615-deb2-16e2c68675d6"
      },
      "execution_count": null,
      "outputs": [
        {
          "output_type": "stream",
          "name": "stdout",
          "text": [
            "Вероятность того, что не перегорит ни одной лампочки составляет около  13.53%\n",
            "Вероятность того, что перегорит всего две лампочки составляет около  27.07%\n"
          ]
        }
      ]
    },
    {
      "cell_type": "markdown",
      "source": [
        " **Задача 3.**  \n",
        " Монету подбросили 144 раза. Какова вероятность, что орел выпадет ровно 70 раз?"
      ],
      "metadata": {
        "id": "GvCVdVbQokaS"
      }
    },
    {
      "cell_type": "code",
      "source": [
        "from scipy.stats import binom\n",
        "\n",
        "k = 70\n",
        "n = 144\n",
        "p = 0.5\n",
        "\n",
        "prob = binom.pmf(k, n, p)\n",
        "\n",
        "print(f'Вероятность выпадения орла 70 раз составляет {prob * 100: .2f}%')"
      ],
      "metadata": {
        "colab": {
          "base_uri": "https://localhost:8080/"
        },
        "id": "7TzAMxxso1Ky",
        "outputId": "ec496b7d-e1d3-4851-8a9e-596a90b8c001"
      },
      "execution_count": null,
      "outputs": [
        {
          "output_type": "stream",
          "name": "stdout",
          "text": [
            "Вероятность выпадения орла 70 раз составляет  6.28%\n"
          ]
        }
      ]
    },
    {
      "cell_type": "markdown",
      "source": [
        " **Задача 4.**  \n",
        " В первом ящике находится 10 мячей, из которых 7- белые. Во втором ящике- 11\n",
        " мячей, из которых 9 белых. Из каждого ящика вытаскивают случайным образом\n",
        " по два мяча.  \n",
        " Какова вероятность того, что все мячи белые?  \n",
        " Какова вероятность того, что ровно два мяча белые?  \n",
        " Какова вероятность того, что хотя бы один мяч белый?"
      ],
      "metadata": {
        "id": "OHR6S5kzpbDE"
      }
    },
    {
      "cell_type": "code",
      "source": [
        "import math\n",
        "\n",
        "ONE_BALL = 1\n",
        "\n",
        "box_1_all = 10\n",
        "box_1_white = 7\n",
        "\n",
        "box_2_all = 11\n",
        "box_2_white = 9\n",
        "\n",
        "taken = 2\n",
        "\n",
        "# вероятность двух белых мячей из первого ящика\n",
        "box_1_prob_two_white = math.comb(box_1_white, taken) / math.comb(box_1_all, taken)\n",
        "# вероятность двух белых мячей из второго ящика\n",
        "box_2_prob_two_white = math.comb(box_2_white, taken) / math.comb(box_2_all, taken)\n",
        "# вероятность одного белого мяча (и другого) из первого ящика\n",
        "box_1_prob_one_white = (math.comb(box_1_white, ONE_BALL) * math.comb(box_1_all - box_1_white, ONE_BALL)) / math.comb(box_1_all, taken)\n",
        "# вероятность одного белого мяча (и другого) из второго ящика\n",
        "box_2_prob_one_white = (math.comb(box_2_white, ONE_BALL) * math.comb(box_2_all - box_2_white, ONE_BALL)) / math.comb(box_2_all, taken)\n",
        "# вероятность ни одного белого из первого ящика\n",
        "box_1_prob_no_white = math.comb(box_1_all - box_1_white, taken) / math.comb(box_1_all, taken)\n",
        "# вероятность ни одного белого из второго ящика\n",
        "box_2_prob_no_white = math.comb(box_2_all - box_2_white, taken) / math.comb(box_2_all, taken)\n",
        "\n",
        "# а) Вероятность того, что все мячи белые\n",
        "prob_all_white = box_1_prob_two_white * box_2_prob_two_white\n",
        "print(f'Вероятность того, что все мячи белые, составляет {prob_all_white * 100 : .2f}%')\n",
        "\n",
        "# б) Вероятность того, что ровно два мяча белые\n",
        "prob_exactly_two_white = (box_1_prob_two_white * box_2_prob_one_white) + (box_2_prob_two_white * box_1_prob_one_white)\n",
        "print(f'Вероятность того, что ровно два белые, составляет {prob_exactly_two_white * 100 : .2f}%')\n",
        "\n",
        "# в) Вероятность того, что хотя бы один белый\n",
        "prob_at_least_one_white = 1 - (box_1_prob_no_white * box_2_prob_no_white)\n",
        "print(f'Вероятность того, что хотя бы один белый, составляет {prob_at_least_one_white * 100 : .2f}%')"
      ],
      "metadata": {
        "colab": {
          "base_uri": "https://localhost:8080/"
        },
        "id": "360FvGh4p_Zq",
        "outputId": "4b135498-686a-49ca-ce6b-19c016ad841a"
      },
      "execution_count": null,
      "outputs": [
        {
          "output_type": "stream",
          "name": "stdout",
          "text": [
            "Вероятность того, что все мячи белые, составляет  30.55%\n",
            "Вероятность того, что ровно два белые, составляет  45.82%\n",
            "Вероятность того, что хотя бы один белый, составляет  99.88%\n"
          ]
        }
      ]
    }
  ]
}