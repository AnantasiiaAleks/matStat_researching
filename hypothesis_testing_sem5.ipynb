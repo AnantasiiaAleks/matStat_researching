{
  "nbformat": 4,
  "nbformat_minor": 0,
  "metadata": {
    "colab": {
      "provenance": [],
      "authorship_tag": "ABX9TyOyHvi+KzqwB+hGbbx3TMef",
      "include_colab_link": true
    },
    "kernelspec": {
      "name": "python3",
      "display_name": "Python 3"
    },
    "language_info": {
      "name": "python"
    }
  },
  "cells": [
    {
      "cell_type": "markdown",
      "metadata": {
        "id": "view-in-github",
        "colab_type": "text"
      },
      "source": [
        "<a href=\"https://colab.research.google.com/github/AnantasiiaAleks/matStat_researching/blob/main/hypothesis_testing_sem5.ipynb\" target=\"_parent\"><img src=\"https://colab.research.google.com/assets/colab-badge.svg\" alt=\"Open In Colab\"/></a>"
      ]
    },
    {
      "cell_type": "markdown",
      "source": [
        "**Задача 1.**  \n",
        "Ниже приведены диаметры коронарных артерий после приема нифедипина и плацебо. Позволяют ли приводимые ниже данные утверждать, что нифедипин влияет на диаметр коронарных артерий?\n",
        " 1. Выполнить расчеты в Python\n",
        " 2. Сделайте расчет в ручную\n",
        " 3. Сравните критерий Стьюдента и p-value со значениями, полученными в Python  \n",
        "x =np.array([2.5, 2.2, 2.6, 2, 2.1, 1.8,2.4, 2.3, 2.7, 2.7, 1.9])  \n",
        "y= np.array([2.5, 1.7, 1.5, 2.5, 1.4, 1.9, 2.3, 2.0, 2.6, 2.3, 2.2])"
      ],
      "metadata": {
        "id": "rTqUUJpV5neh"
      }
    },
    {
      "cell_type": "code",
      "execution_count": 6,
      "metadata": {
        "colab": {
          "base_uri": "https://localhost:8080/"
        },
        "id": "5omitWpX5Y5H",
        "outputId": "b9511fac-ea1f-405f-9653-047fb5541e7a"
      },
      "outputs": [
        {
          "output_type": "stream",
          "name": "stdout",
          "text": [
            "0.0023455386298438796\n"
          ]
        }
      ],
      "source": [
        "# Расчеты по формулам\n",
        "import numpy as np\n",
        "from math import sqrt\n",
        "import scipy.stats as sps\n",
        "\n",
        "x =np.array([2.5, 2.2, 2.6, 2, 2.1, 1.8,2.4, 2.3, 2.7, 2.7, 1.9])\n",
        "y= np.array([2.5, 1.7, 1.5, 2.5, 1.4, 1.9, 2.3, 2.0, 2.6, 2.3, 2.2])\n",
        "\n",
        "mean_x = np.mean(x)      # 2.291\n",
        "mean_y = np.mean(y)      # 2.082\n",
        "\n",
        "std_x = np.std(x, ddof=1)        # 0.318\n",
        "std_y = np.std(y, ddof=1)        # 0.414\n",
        "\n",
        "len_x = len(x)                  # 11\n",
        "len_y = len(y)                  # 11\n",
        "\n",
        "t = (mean_x - mean_y) / sqrt((std_x ** 2 / len_x) + (std_y ** 2 / len_y))   # 1.328\n",
        "\n",
        "# степени свободы\n",
        "df = len_x + len_y - 2         # 20\n",
        "\n",
        "# по таблице:\n",
        "t_table = 2.086\n",
        "\n",
        "p_value = 2 * (1 - sps.t.cdf(t, df))    # 0.19902265798859653"
      ]
    },
    {
      "cell_type": "code",
      "source": [
        "import numpy as np\n",
        "from math import sqrt\n",
        "import scipy.stats as sps\n",
        "\n",
        "x =np.array([2.5, 2.2, 2.6, 2, 2.1, 1.8,2.4, 2.3, 2.7, 2.7, 1.9])\n",
        "y= np.array([2.5, 1.7, 1.5, 2.5, 1.4, 1.9, 2.3, 2.0, 2.6, 2.3, 2.2])\n",
        "\n",
        "mean_x = np.mean(x)      # 2.291\n",
        "mean_y = np.mean(y)      # 2.082\n",
        "\n",
        "var_x = np.var(x, ddof=1)   # 0.10090909090909095\n",
        "var_y = np.var(y, ddof=1)   # 0.17163636363636364\n",
        "\n",
        "len_x = len(x)    # 11\n",
        "len_y = len(y)    # 11\n",
        "\n",
        "t = (mean_x - mean_y) / sqrt((var_x / len_x) + (var_y / len_y))     # 1.3283484757831465\n",
        "\n",
        "nu = len_x + len_y - 2    # 20\n",
        "\n",
        "t_table = 2.086\n",
        "\n",
        "# Значение рассчитанного t-критерия Стьюдента (1.328) < табличного (2.086), следовательно, различия сравниваемых величин статистически не значимы."
      ],
      "metadata": {
        "colab": {
          "base_uri": "https://localhost:8080/"
        },
        "id": "NT2gkodo8soB",
        "outputId": "02cd7b8c-8642-4428-c12e-405ca756206c"
      },
      "execution_count": 14,
      "outputs": [
        {
          "output_type": "execute_result",
          "data": {
            "text/plain": [
              "20"
            ]
          },
          "metadata": {},
          "execution_count": 14
        }
      ]
    },
    {
      "cell_type": "code",
      "source": [
        "import scipy.stats as sps\n",
        "import numpy as np\n",
        "\n",
        "x =np.array([2.5, 2.2, 2.6, 2, 2.1, 1.8,2.4, 2.3, 2.7, 2.7, 1.9])\n",
        "y= np.array([2.5, 1.7, 1.5, 2.5, 1.4, 1.9, 2.3, 2.0, 2.6, 2.3, 2.2])\n",
        "\n",
        "mean_x = np.mean(x)      # 2.291\n",
        "mean_y = np.mean(y)      # 2.082\n",
        "\n",
        "t_func = sps.ttest_ind(x, y)\n",
        "# t_func = TtestResult(statistic=1.3283484757831463, pvalue=0.19902265798859647, df=20.0)\n",
        "# p-значение (0.199) > alpha (0.05), что указывает на то, что нет статистически значимой разницы между средними значениями x и y.\n",
        "# Следовательно, можно сделать вывод, что различия между двумя группами не являются статистически значительными\n",
        "# мы не можем отвергнуть нулевую гипотезу о том, что средние значения x и y равны."
      ],
      "metadata": {
        "colab": {
          "base_uri": "https://localhost:8080/"
        },
        "id": "FRcUi5yEJsEg",
        "outputId": "cd2a47d3-fef7-4b77-d195-51f0445603e9"
      },
      "execution_count": 13,
      "outputs": [
        {
          "output_type": "execute_result",
          "data": {
            "text/plain": [
              "TtestResult(statistic=1.3283484757831463, pvalue=0.19902265798859647, df=20.0)"
            ]
          },
          "metadata": {},
          "execution_count": 13
        }
      ]
    },
    {
      "cell_type": "markdown",
      "source": [
        "**Задача 2.**  \n",
        "Ниже приведены данные из исследования Фреба и Уайта, посвященному исследованию\n",
        "состоянию легких. Мы возьмем данные для группы людей, которые работали в накуренном помещении и для людей, выкуривающих небольшое число сигарет в день.\n",
        "\n",
        "Объемы выборок одинаковые – по 200 человек.  \n",
        "Для людей, работающих в накуренном помещении средняя скорость средины выдоха составляет 2,72, std = 0.71, а выкуривающих небольшое число сигарет 2,63, std = 0.73.  \n",
        "Можно ли считать одинаковой максимальную объемную скорость середины выдоха одинаковой в обеих группах?"
      ],
      "metadata": {
        "id": "xwU5EeMmPa8D"
      }
    },
    {
      "cell_type": "code",
      "source": [
        "alpha = 0.05\n",
        "len_x = len_y = 200\n",
        "\n",
        "mean_x = 2.72\n",
        "mean_y = 2.63\n",
        "\n",
        "std_x = 0.71\n",
        "std_y = 0.73\n",
        "\n",
        "t = (mean_x - mean_y) / sqrt((std_x ** 2 / len_x) + (std_y ** 2 / len_y))     # 1.24988\n",
        "\n",
        "df = len_x + len_y - 2    # 398\n",
        "\n",
        "t_table = 1.960\n",
        "\n",
        "p_value = 2 * (1 - sps.t.cdf(abs(t), df))      # 0.212\n",
        "\n",
        "\n",
        "\n",
        "#  Если p-value меньше 0.05, это говорит о том, что разница между группами статистически значима, и можно заключить, что максимальные объемные скорости выдоха различаются.\n",
        "# Если p-value больше 0.05, можно сказать, что нет достаточных оснований отвергать гипотезу о равенстве средних,\n",
        "# и, следовательно, максимальные объемные скорости выдоха можно считать одинаковыми в обеих группах."
      ],
      "metadata": {
        "colab": {
          "base_uri": "https://localhost:8080/"
        },
        "id": "INFgLw2OQNNO",
        "outputId": "83642354-b14e-4938-c71b-40ef7f4f7bdd"
      },
      "execution_count": 25,
      "outputs": [
        {
          "output_type": "execute_result",
          "data": {
            "text/plain": [
              "0.21207802965257172"
            ]
          },
          "metadata": {},
          "execution_count": 25
        }
      ]
    },
    {
      "cell_type": "markdown",
      "source": [
        "Поскольку полученное значение p-value больше значения альфа, можно утверждать, что достаточных оснований отвергать гипотезу о равенстве средних нет. Следовательно, максимальные объемные скорости выхода можно считать одинаковыми в обеих группах.\n",
        "\n"
      ],
      "metadata": {
        "id": "0oJ8RKppSvP9"
      }
    },
    {
      "cell_type": "markdown",
      "source": [
        "**Задача 3.**  \n",
        "Утверждается, что средний рост мужчин национальности Х 179,5.  \n",
        "Была взята выборка из 100 человек, по которой получилось среднее арифметическое 178,5.  \n",
        "Проверить это утверждение с помощью одностороннего теста, если известно, что стандартное отклонение генеральной совокупности 3 см. А уровень статистической значимости принять за 1%."
      ],
      "metadata": {
        "id": "UX9_1RwcT1uH"
      }
    },
    {
      "cell_type": "code",
      "source": [
        "# Н0: средний рост мужчин национальности Х составляет 179,5\n",
        "# Н1: средний рост мужчин национальности Х отличается от 179,5\n",
        "\n",
        "from math import sqrt\n",
        "import scipy.stats as sps\n",
        "X = 179.5\n",
        "\n",
        "len_x = 100\n",
        "mean_x = 178.5\n",
        "std_x = 3\n",
        "alfa = 0.01\n",
        "\n",
        "z = (mean_x - X) / (std_x / sqrt(len_x))      # -3.33\n",
        "\n",
        "z_table = 0.00043\n",
        "\n",
        "p_value = sps.norm.cdf(z)     # 0.00043\n",
        "\n",
        "# p-value < alpha => Н0 отклоняется"
      ],
      "metadata": {
        "colab": {
          "base_uri": "https://localhost:8080/"
        },
        "id": "93Osq6FsUHYt",
        "outputId": "387f9013-8ae7-458e-bde3-29b0b2301e2b"
      },
      "execution_count": 38,
      "outputs": [
        {
          "output_type": "execute_result",
          "data": {
            "text/plain": [
              "0.0004290603331968372"
            ]
          },
          "metadata": {},
          "execution_count": 38
        }
      ]
    },
    {
      "cell_type": "markdown",
      "source": [
        "# Домашка"
      ],
      "metadata": {
        "id": "0ggEA74phIqF"
      }
    },
    {
      "cell_type": "markdown",
      "source": [
        "**Задача 1.**  \n",
        "Проведите тест гипотезы.  \n",
        "Утверждается, что шарики для подшипников, изготовленные автоматическим станком, имеют средний диаметр 17 мм.  \n",
        "Используя односторонний критерий с α=0,05, проверить эту гипотезу, если в\n",
        "выборке из n=100 шариков средний диаметр оказался равным 17.5 мм, а\n",
        "дисперсия известна и равна 4 кв. мм."
      ],
      "metadata": {
        "id": "vfFn482yhM7Q"
      }
    },
    {
      "cell_type": "code",
      "source": [
        "# Н0: Средний диаметр подшипника составляет 17 мм\n",
        "# Н1: Средний диаметр подшипника больше от 17 мм\n",
        "\n",
        "import scipy.stats as sps\n",
        "from math import sqrt\n",
        "\n",
        "mu_0 = 17\n",
        "alpha = 0.05\n",
        "n = 100\n",
        "x = 17.5\n",
        "var_x = 4\n",
        "\n",
        "std_x = sqrt(var_x)\n",
        "z = (x - mu_0) / (std_x / sqrt(n))    # 2.5\n",
        "z_table = 1.6449\n",
        "\n",
        "'''\n",
        "Если посчитанная Z-статистика больше табличного значения, это означает, что результат статистически значим и\n",
        " нулевая гипотеза отвергается.\n",
        "В противном случае, недостаточно оснований её отвергнуть.\n",
        "'''\n",
        "\n",
        "print('Проверка гипотезы с использованием Z-критерия')\n",
        "print(f'Z-статистика: {z}')\n",
        "print(f'Критическое значение: {z_table}')\n",
        "# Вывод\n",
        "if z > z_table:\n",
        "  print('Отвергаем нулевую гипотезу в пользу альтернативной гипотезы.')\n",
        "else:\n",
        "  print('Нет оснований отвергать нулевую гипотезу.')\n"
      ],
      "metadata": {
        "colab": {
          "base_uri": "https://localhost:8080/"
        },
        "id": "0j0eCZUShap5",
        "outputId": "39ad7688-ed8a-4fb9-a96c-a61b21ecc3cd"
      },
      "execution_count": 7,
      "outputs": [
        {
          "output_type": "stream",
          "name": "stdout",
          "text": [
            "Проверка гипотезы с использованием Z-критерия\n",
            "Z-статистика: 2.5\n",
            "Критическое значение: 1.6449\n",
            "Отвергаем нулевую гипотезу в пользу альтернативной гипотезы.\n"
          ]
        }
      ]
    },
    {
      "cell_type": "markdown",
      "source": [
        " **Задача 2.**  \n",
        "Проведите тест гипотезы.  \n",
        "Продавец утверждает, что средний вес пачки печенья составляет 200 г. Из партии извлечена выборка из 10 пачек. Вес каждой пачки составляет: 202, 203, 199, 197, 195, 201, 200, 204, 194, 190. Известно,что их веса распределены нормально.  \n",
        "Верно ли утверждение продавца, если учитывать, что доверительная вероятность равна 99%?  \n",
        "(Провести двусторонний тест.)\n"
      ],
      "metadata": {
        "id": "kO1U9YJ5pxYI"
      }
    },
    {
      "cell_type": "code",
      "source": [
        "# H0: Средний вес пачки составляет 200 г.\n",
        "# H1: Средний вес пачки отличается от 200 г.\n",
        "\n",
        "import scipy.stats as sps\n",
        "import numpy as np\n",
        "from math import sqrt\n",
        "\n",
        "x = np.array([202, 203, 199, 197, 195, 201, 200, 204, 194, 190])\n",
        "n = 10\n",
        "alpha = (1 - 0.99) / 2\n",
        "mu_0 = 200\n",
        "x_mean = np.mean(x)\n",
        "x_std = np.std(x, ddof=1)\n",
        "\n",
        "t = (x_mean - mu_0) / (x_std / sqrt(n))     # -1.0651074037450896\n",
        "nu = n - 1\n",
        "t_crit = sps.t.ppf(alpha, nu)     # -3.2498355415921254 and 3.2498355415921254\n",
        "\n",
        "'''\n",
        "Так как t находится в интервале (-3.250; 3.250), то мы не отвергаем нулевую гипотезу (H0).\n",
        "Вывод:\n",
        "Утверждение продавца о том, что средний вес пачки печенья составляет 200 г, не может быть опровергнуто с 99% уровнем доверия.\n",
        "'''"
      ],
      "metadata": {
        "colab": {
          "base_uri": "https://localhost:8080/"
        },
        "id": "Pci5MokOqYir",
        "outputId": "eea51dc9-9d3c-4410-c359-b7e30c72bf1a"
      },
      "execution_count": 15,
      "outputs": [
        {
          "output_type": "execute_result",
          "data": {
            "text/plain": [
              "-3.2498355415921254"
            ]
          },
          "metadata": {},
          "execution_count": 15
        }
      ]
    },
    {
      "cell_type": "markdown",
      "source": [
        "**Задача 3.**  \n",
        "Есть ли статистически значимые различия в росте дочерей?  \n",
        "Рост матерей 172, 177, 158, 170, 178, 175, 164, 160, 169, 165. Рост взрослых дочерей: 173, 175, 162, 174, 175, 168, 155, 170, 160."
      ],
      "metadata": {
        "id": "EhUkCl3sv5G9"
      }
    },
    {
      "cell_type": "code",
      "source": [
        "'''\n",
        " H0: средний рост матерей и дочерей не отличается (то есть μ1 = μ2).\n",
        " H1: средний рост отличается (то есть μ1 ≠ μ2).\n",
        " '''\n",
        "\n",
        "import numpy as np\n",
        "from math import sqrt\n",
        "\n",
        "\n",
        "x = np.array([172, 177, 158, 170, 178, 175, 164, 160, 169, 165])\n",
        "y = np.array([173, 175, 162, 174, 175, 168, 155, 170, 160])\n",
        "\n",
        "x_mean = np.mean(x)\n",
        "y_mean = np.mean(y)\n",
        "\n",
        "x_len = len(x)\n",
        "y_len = len(y)\n",
        "\n",
        "x_var = np.var(x, ddof=1)\n",
        "y_var = np.var(y, ddof=1)\n",
        "\n",
        "alpha = 0.05\n",
        "nu = x_len + y_len - 2\n",
        "\n",
        "t = (x_mean - y_mean) / sqrt((x_var / x_len) + (y_var / y_len))     # 0.24323213903456076\n",
        "t_table = 2.0168\n",
        "\n",
        "# нет статистических различий в росте\n"
      ],
      "metadata": {
        "colab": {
          "base_uri": "https://localhost:8080/"
        },
        "id": "3N-lyQTCwWps",
        "outputId": "ee5847dd-1035-468d-8ca0-127543d72bcc"
      },
      "execution_count": 18,
      "outputs": [
        {
          "output_type": "execute_result",
          "data": {
            "text/plain": [
              "TtestResult(statistic=0.24400587215969016, pvalue=0.8101467126543231, df=17.0)"
            ]
          },
          "metadata": {},
          "execution_count": 18
        }
      ]
    },
    {
      "cell_type": "code",
      "source": [
        "mothers_height = [172, 177, 158, 170, 178, 175, 164, 160, 169, 165]\n",
        "daughters_height = [173, 175, 162, 174, 175, 168, 155, 170, 160]\n",
        "\n",
        "n1 = len(mothers_height)\n",
        "n2 = len(daughters_height)\n",
        "mean_mothers = sum(mothers_height) / n1\n",
        "mean_daughters = sum(daughters_height) / n2\n",
        "var_mothers = sum((x- mean_mothers) ** 2 for x in mothers_height) / (n1- 1)\n",
        "var_daughters = sum((x- mean_daughters) ** 2 for x in daughters_height) / (n2- 1)\n",
        "\n",
        " # t-статистика для независимых выборок\n",
        "pooled_variance=((n1-1)*var_mothers+(n2-1)*\n",
        "var_daughters)/(n1+n2-2)\n",
        "t_stat_ind=(mean_mothers-mean_daughters)/ sqrt(pooled_variance*(1/n1+1/n2))\n",
        "\n",
        " # Критическое значение для двустороннего теста при α=0.05 и df= 18\n",
        "t_crit_ind=2.100922\n",
        "print(\"Задача3: Статистически значимые различия в росте матерей и дочерей\")\n",
        "print(f\"t-статистика: {t_stat_ind}\")\n",
        "print(f\"Критическое значение: {t_crit_ind}\")\n",
        "if abs(t_stat_ind) > t_crit_ind:\n",
        "  print(\"Есть статистически значимые различия в росте матерей и дочерей.\")\n",
        "else:\n",
        "  print(\"Нет статистически значимых различий в росте матерей и дочерей.\")"
      ],
      "metadata": {
        "colab": {
          "base_uri": "https://localhost:8080/"
        },
        "id": "4v6w5zqj0I3c",
        "outputId": "7d1f93f9-95fc-459a-d11e-d1f593901fe4"
      },
      "execution_count": 20,
      "outputs": [
        {
          "output_type": "stream",
          "name": "stdout",
          "text": [
            "Задача3: Статистически значимые различия в росте матерей и дочерей\n",
            "t-статистика: 0.24400587215969016\n",
            "Критическое значение: 2.100922\n",
            "Нет статистически значимых различий в росте матерей и дочерей.\n"
          ]
        }
      ]
    }
  ]
}